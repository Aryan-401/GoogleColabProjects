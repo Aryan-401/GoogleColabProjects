{
  "cells": [
    {
      "cell_type": "markdown",
      "metadata": {
        "id": "view-in-github",
        "colab_type": "text"
      },
      "source": [
        "<a href=\"https://colab.research.google.com/github/Aryan-401/GoogleColabProjects/blob/main/Linear_Regression.ipynb\" target=\"_parent\"><img src=\"https://colab.research.google.com/assets/colab-badge.svg\" alt=\"Open In Colab\"/></a>"
      ]
    },
    {
      "cell_type": "code",
      "execution_count": null,
      "metadata": {
        "id": "Mx_v0aectfKp"
      },
      "outputs": [],
      "source": [
        "import numpy as np\n",
        "import torch"
      ]
    },
    {
      "cell_type": "code",
      "execution_count": null,
      "metadata": {
        "id": "cF_nsKVAtm_Y"
      },
      "outputs": [],
      "source": [
        "# f = w * x\n",
        "# f = 2 * x\n",
        "\n",
        "X = np.array([1,2,3,4], dtype=np.float32)\n",
        "Y = np.array([2,4,6,8], dtype=np.float32)\n",
        "\n",
        "w = 0\n"
      ]
    },
    {
      "cell_type": "code",
      "source": [
        "#model prediction\n",
        "def forward(x):\n",
        "  return w*x"
      ],
      "metadata": {
        "id": "4UQBBD1EuU9p"
      },
      "execution_count": null,
      "outputs": []
    },
    {
      "cell_type": "code",
      "source": [
        "#loss = MeanSquaredError\n",
        "\n",
        "def loss(y, y_predicted):\n",
        "  return ((y_predicted-y)**2).mean()"
      ],
      "metadata": {
        "id": "WANtYEWfual2"
      },
      "execution_count": null,
      "outputs": []
    },
    {
      "cell_type": "code",
      "source": [
        "#gradient \n",
        "# MSE = 1/N (w*x - y)** 2 \n",
        "# dJ/dW = 1/N 2x(wx - y)\n",
        "def gradient(x,y,y_predicted):\n",
        "  return np.dot(2*x, y_predicted-y).mean()"
      ],
      "metadata": {
        "id": "ep31hnKjuuDH"
      },
      "execution_count": null,
      "outputs": []
    },
    {
      "cell_type": "code",
      "source": [
        "w = 0\n",
        "print(f\"Prediction before Training: f(5) = {forward(5):.3f}\")\n",
        "learning_rate = 0.01\n",
        "n_iters = 20\n",
        "for epoc in range(n_iters):\n",
        "  y_pred = forward(X)  # predictions\n",
        "  l = loss(Y, y_pred)  # loss\n",
        "  dw = gradient(X, Y, y_pred)  # gradient\n",
        "  w -= learning_rate * dw\n",
        "\n",
        "  if epoc%2 == 1:\n",
        "    print(f'epoc #{epoc+1}: w = {w:.8f}, l = {l:.8f}')\n",
        "  \n",
        "print(f\"Prediction After Training: f(5) = {forward(5):.3f}\")\n",
        "\n"
      ],
      "metadata": {
        "colab": {
          "base_uri": "https://localhost:8080/"
        },
        "id": "kaumThYfu3aO",
        "outputId": "8b067cfc-eace-4bd7-b49a-dac4ca0e9481"
      },
      "execution_count": null,
      "outputs": [
        {
          "output_type": "stream",
          "name": "stdout",
          "text": [
            "Prediction before Training: f(5) = 0.000\n",
            "epoc #2: w = 1.67999996, l = 4.79999924\n",
            "epoc #4: w = 1.94879999, l = 0.12288000\n",
            "epoc #6: w = 1.99180803, l = 0.00314574\n",
            "epoc #8: w = 1.99868928, l = 0.00008053\n",
            "epoc #10: w = 1.99979025, l = 0.00000206\n",
            "epoc #12: w = 1.99996641, l = 0.00000005\n",
            "epoc #14: w = 1.99999461, l = 0.00000000\n",
            "epoc #16: w = 1.99999914, l = 0.00000000\n",
            "epoc #18: w = 1.99999984, l = 0.00000000\n",
            "epoc #20: w = 2.00000000, l = 0.00000000\n",
            "Prediction After Training: f(5) = 10.000\n"
          ]
        }
      ]
    },
    {
      "cell_type": "code",
      "source": [],
      "metadata": {
        "id": "Z3yLJF81wO_6"
      },
      "execution_count": null,
      "outputs": []
    },
    {
      "cell_type": "code",
      "source": [
        "# f = w * x\n",
        "# f = 2 * x\n",
        "\n",
        "X = torch.tensor([1,2,3,4], dtype=torch.float32)\n",
        "Y = torch.tensor([2,4,6,8], dtype=torch.float32)\n",
        "\n",
        "w = torch.tensor(0.0, dtype = torch.float32, requires_grad = True)"
      ],
      "metadata": {
        "id": "6J-A99m1w6JP"
      },
      "execution_count": null,
      "outputs": []
    },
    {
      "cell_type": "code",
      "source": [
        "w = torch.tensor(0.0, dtype = torch.float32, requires_grad = True)\n",
        "print(f\"Prediction before Training: f(5) = {forward(5):.3f}\")\n",
        "learning_rate = 0.01\n",
        "n_iters = 100\n",
        "for epoc in range(n_iters):\n",
        "  y_pred = forward(X)  # predictions\n",
        "  l = loss(Y, y_pred)  # loss\n",
        "  l.backward()# gradient = backward pass\n",
        "  with torch.no_grad():  # update weights\n",
        "    w -= learning_rate * w.grad\n",
        "\n",
        "  w.grad.zero_()  # zero gradient\n",
        "\n",
        "  if epoc%10 == 0:\n",
        "    print(f'epoc #{epoc+1}: w = {w:.8f}, l = {l:.8f}')\n",
        "  \n",
        "print(f\"Prediction After Training: f(5) = {forward(5):.3f}\")\n",
        "\n"
      ],
      "metadata": {
        "colab": {
          "base_uri": "https://localhost:8080/"
        },
        "id": "Nqt-WjrixVAD",
        "outputId": "b8490e21-e3db-448f-c7db-82571595e4e6"
      },
      "execution_count": null,
      "outputs": [
        {
          "output_type": "stream",
          "name": "stdout",
          "text": [
            "Prediction before Training: f(5) = 0.000\n",
            "epoc #1: w = 0.29999998, l = 30.00000000\n",
            "epoc #11: w = 1.66531360, l = 1.16278565\n",
            "epoc #21: w = 1.93410885, l = 0.04506890\n",
            "epoc #31: w = 1.98702765, l = 0.00174685\n",
            "epoc #41: w = 1.99744618, l = 0.00006770\n",
            "epoc #51: w = 1.99949718, l = 0.00000262\n",
            "epoc #61: w = 1.99990106, l = 0.00000010\n",
            "epoc #71: w = 1.99998045, l = 0.00000000\n",
            "epoc #81: w = 1.99999630, l = 0.00000000\n",
            "epoc #91: w = 1.99999928, l = 0.00000000\n",
            "Prediction After Training: f(5) = 10.000\n"
          ]
        }
      ]
    },
    {
      "cell_type": "code",
      "source": [
        " '''\n",
        " Pipeline:\n",
        " Design Model (input, output size, forward pass)\n",
        " Construct Loss and optimiser\n",
        " Training Loop\n",
        "  - Forward Pass: Compute Prediction\n",
        "  - Backward Pass: Gradient\n",
        "  - Update Weight(s)\n",
        "'''\n",
        "import torch.nn as nn"
      ],
      "metadata": {
        "id": "snbLPeNoyPDz"
      },
      "execution_count": null,
      "outputs": []
    },
    {
      "cell_type": "code",
      "source": [
        "w = torch.tensor(0.0, dtype = torch.float32, requires_grad = True)\n",
        "print(f\"Prediction before Training: f(5) = {forward(5):.3f}\")\n",
        "learning_rate = 0.01\n",
        "n_iters = 100\n",
        "loss = nn.MSELoss()\n",
        "optimiser = torch.optim.SGD([w],lr=  learning_rate)\n",
        "for epoc in range(n_iters):\n",
        "  y_pred = forward(X)  # predictions\n",
        "  l = loss(Y, y_pred)  # loss\n",
        "  l.backward()# gradient = backward pass\n",
        "  optimiser.step() # update weights\n",
        "\n",
        "  optimiser.zero_grad()  # zero gradient\n",
        "\n",
        "  if epoc%10 == 0:\n",
        "    print(f'epoc #{epoc+1}: w = {w:.8f}, l = {l:.8f}')\n",
        "  \n",
        "print(f\"Prediction After Training: f(5) = {forward(5):.3f}\")\n",
        "\n"
      ],
      "metadata": {
        "colab": {
          "base_uri": "https://localhost:8080/"
        },
        "id": "KLVDU08mUtCI",
        "outputId": "b890a6be-5be9-4495-beee-47c1d30ff635"
      },
      "execution_count": null,
      "outputs": [
        {
          "output_type": "stream",
          "name": "stdout",
          "text": [
            "Prediction before Training: f(5) = 0.000\n",
            "epoc #1: w = 0.29999998, l = 30.00000000\n",
            "epoc #11: w = 1.66531360, l = 1.16278565\n",
            "epoc #21: w = 1.93410885, l = 0.04506890\n",
            "epoc #31: w = 1.98702765, l = 0.00174685\n",
            "epoc #41: w = 1.99744618, l = 0.00006770\n",
            "epoc #51: w = 1.99949718, l = 0.00000262\n",
            "epoc #61: w = 1.99990106, l = 0.00000010\n",
            "epoc #71: w = 1.99998045, l = 0.00000000\n",
            "epoc #81: w = 1.99999630, l = 0.00000000\n",
            "epoc #91: w = 1.99999928, l = 0.00000000\n",
            "Prediction After Training: f(5) = 10.000\n"
          ]
        }
      ]
    },
    {
      "cell_type": "code",
      "source": [
        "X = torch.tensor([[1],[2],[3],[4]], dtype=torch.float32)\n",
        "Y = torch.tensor([[2],[4],[6],[8]], dtype=torch.float32)\n",
        "\n",
        "X_test = torch.tensor([5], dtype=torch.float32)\n",
        "n_samples, n_features = X.shape\n",
        "print(n_samples, n_features)\n",
        "print(X_test)\n",
        "\n",
        "\n",
        "model = nn.Linear(in_features=n_features, out_features=n_features)\n",
        "'''\n",
        "class LinearRegression(nn.Module):\n",
        "    def __init__(self, input_dim, output_dim):\n",
        "        super(LinearRegression, self).__init__()\n",
        "        # define diferent layers\n",
        "        self.lin = nn.Linear(input_dim, output_dim)\n",
        "    def forward(self, x):\n",
        "        return self.lin(x)\n",
        "model = LinearRegression(input_dim=n_features, output_dim=n_features)\n",
        "'''\n",
        "print(f'Prediction before training: f(5) = {model(X_test).item():.3f}')\n",
        "learning_rate = 0.01\n",
        "n_iters = 300\n",
        "loss = nn.MSELoss()\n",
        "optimiser = torch.optim.SGD(model.parameters(),lr=  learning_rate)\n",
        "for epoc in range(n_iters):\n",
        "  y_pred = model(X)  # predictions\n",
        "  l = loss(Y, y_pred)  # loss\n",
        "  l.backward()# gradient = backward pass\n",
        "  optimiser.step() # update weights\n",
        "\n",
        "  optimiser.zero_grad()  # zero gradient\n",
        "\n",
        "  if epoc%30 == 0:\n",
        "    [w,b] = model.parameters()\n",
        "    print(f'epoc #{epoc+1}: w = {w[0][0].item():.8f}, l = {l:.8f}, b= {b.item()}')\n",
        "\n",
        "\n",
        "print(f\"Prediction After Training: f(5) = {model(X_test).item():.3f}\")\n",
        "\n"
      ],
      "metadata": {
        "colab": {
          "base_uri": "https://localhost:8080/"
        },
        "id": "qW-lRbFkWS5p",
        "outputId": "3d509eca-45d4-4a93-a390-e018b87586e7"
      },
      "execution_count": null,
      "outputs": [
        {
          "output_type": "stream",
          "name": "stdout",
          "text": [
            "4 1\n",
            "tensor([5.])\n",
            "Prediction before training: f(5) = 3.213\n",
            "epoc #1: w = 0.82941687, l = 13.61340618, b= 0.14345449209213257\n",
            "epoc #31: w = 1.84491086, l = 0.03330931, b= 0.44225558638572693\n",
            "epoc #61: w = 1.86205924, l = 0.02762859, b= 0.40550538897514343\n",
            "epoc #91: w = 1.87394142, l = 0.02307955, b= 0.3706272840499878\n",
            "epoc #121: w = 1.88478577, l = 0.01927954, b= 0.3387441039085388\n",
            "epoc #151: w = 1.89469695, l = 0.01610517, b= 0.309603750705719\n",
            "epoc #181: w = 1.90375566, l = 0.01345347, b= 0.2829701602458954\n",
            "epoc #211: w = 1.91203511, l = 0.01123837, b= 0.25862768292427063\n",
            "epoc #241: w = 1.91960216, l = 0.00938796, b= 0.23637929558753967\n",
            "epoc #271: w = 1.92651844, l = 0.00784225, b= 0.21604491770267487\n",
            "Prediction After Training: f(5) = 9.861\n"
          ]
        }
      ]
    },
    {
      "cell_type": "code",
      "source": [
        "from sklearn import datasets\n",
        "import matplotlib.pyplot as plt\n",
        "\n",
        "# prepare data\n",
        "X_numpy, y_numpy = datasets.make_regression(n_samples=100, n_features=1, noise=20, random_state=1)\n",
        "X = torch.from_numpy(X_numpy.astype(np.float32))\n",
        "y = torch.from_numpy(y_numpy.astype(np.float32))\n",
        "learning_rate = 0.01\n",
        "\n",
        "y = y.view(y.shape[0],1)\n",
        "n_samples, n_features = X.shape\n",
        "# model\n",
        "model = nn.Linear(in_features=n_features, out_features=n_features)\n",
        "# loss\n",
        "criterion = nn.MSELoss()\n",
        "optimiser = torch.optim.SGD(model.parameters(), lr = learning_rate)\n",
        "# training loop\n",
        "num_epoc = 1000\n",
        "for epoc in range(num_epoc):\n",
        "  #forward and loss\n",
        "  y_pred = model(X)\n",
        "  loss = criterion(y_pred, y)\n",
        "  #backward pass\n",
        "  loss.backward()\n",
        "  #update\n",
        "  optimiser.step()\n",
        "\n",
        "  optimiser.zero_grad()\n",
        "\n",
        "  if epoc%100 == 0:\n",
        "    [w,b] = model.parameters()\n",
        "    print(f'epoc #{epoc}: w = {w[0][0].item():.8f}, l = {loss.item():.8f}, b= {b.item()}')\n",
        "\n",
        "\n",
        "print(f\"Prediction After Training: f(5) = {model(X_test).item():.3f}\")\n",
        "\n",
        "predicted = model(X).detach().numpy()\n",
        "plt.plot(x_numpy, y_numpy, 'ro')\n",
        "plt.plot(x_numpy, predicted, 'b')\n",
        "plt.show()\n"
      ],
      "metadata": {
        "colab": {
          "base_uri": "https://localhost:8080/",
          "height": 459
        },
        "id": "5x2FvJ0fYnuN",
        "outputId": "e13bdbdb-7ac1-4341-d7d8-2a93693be508"
      },
      "execution_count": null,
      "outputs": [
        {
          "output_type": "stream",
          "name": "stdout",
          "text": [
            "epoc #0: w = 1.17314649, l = 5748.09619141, b= 0.9882896542549133\n",
            "epoc #100: w = 65.80497742, l = 557.58666992, b= 5.3132123947143555\n",
            "epoc #200: w = 79.02423096, l = 342.34024048, b= 4.564918041229248\n",
            "epoc #300: w = 81.76152039, l = 332.99948120, b= 4.193416118621826\n",
            "epoc #400: w = 82.33278656, l = 332.58679199, b= 4.087517261505127\n",
            "epoc #500: w = 82.45258331, l = 332.56845093, b= 4.061623573303223\n",
            "epoc #600: w = 82.47776794, l = 332.56762695, b= 4.055699825286865\n",
            "epoc #700: w = 82.48307037, l = 332.56753540, b= 4.054390907287598\n",
            "epoc #800: w = 82.48421478, l = 332.56756592, b= 4.054107189178467\n",
            "epoc #900: w = 82.48426056, l = 332.56756592, b= 4.0540547370910645\n",
            "Prediction After Training: f(5) = 416.475\n"
          ]
        },
        {
          "output_type": "display_data",
          "data": {
            "text/plain": [
              "<Figure size 432x288 with 1 Axes>"
            ],
            "image/png": "[encoded data removed]"
          },
          "metadata": {
            "needs_background": "light"
          }
        }
      ]
    },
    {
      "cell_type": "code",
      "source": [],
      "metadata": {
        "id": "nZYcWzqpc9Cf"
      },
      "execution_count": null,
      "outputs": []
    }
  ],
  "metadata": {
    "colab": {
      "provenance": [],
      "authorship_tag": "ABX9TyNxFl4VCMzzCbsUqW7qKscL",
      "include_colab_link": true
    },
    "kernelspec": {
      "display_name": "Python 3",
      "name": "python3"
    },
    "language_info": {
      "name": "python"
    }
  },
  "nbformat": 4,
  "nbformat_minor": 0
}